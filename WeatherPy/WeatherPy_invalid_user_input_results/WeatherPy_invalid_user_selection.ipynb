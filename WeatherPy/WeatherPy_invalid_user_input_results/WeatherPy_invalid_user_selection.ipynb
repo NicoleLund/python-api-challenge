{
 "cells": [
  {
   "cell_type": "markdown",
   "metadata": {},
   "source": [
    "# WeatherPy\n",
    "----\n",
    "\n",
    "Written in the Python 3.7.9 Environment\n",
    "\n",
    "By Nicole Lund \n",
    "\n",
    "In partnership with Anne Niemiec.\n",
    "\n",
    "The starter code and pseudo code for this challenge was provided and can be reviewed in python-api-challenge\\assignment_source_files\n",
    "\n",
    "#### Note\n",
    "* Instructions have been included for each segment. You do not have to follow them exactly, but they are included to help you think through the steps."
   ]
  },
  {
   "cell_type": "code",
   "execution_count": 1,
   "metadata": {
    "scrolled": true
   },
   "outputs": [],
   "source": [
    "# Dependencies and Setup\n",
    "import matplotlib.pyplot as plt\n",
    "import pandas as pd\n",
    "import numpy as np\n",
    "import requests\n",
    "import time\n",
    "import json\n",
    "from scipy.stats import linregress\n",
    "\n",
    "# Import API key\n",
    "from api_keys import weather_api_key\n",
    "if weather_api_key == \"YOUR KEY HERE!\":\n",
    "    import sys\n",
    "    sys.path.append(r\"C:\\Users\\nlund\\Documents\\GitHub\\untracked_files\")\n",
    "    from api_keys_NRL import weather_api_key\n",
    "\n",
    "# Incorporated citipy to determine city based on latitude and longitude\n",
    "from citipy import citipy\n",
    "\n",
    "# Output File (CSV)\n",
    "output_data_file = \"output_data/cities.csv\"\n",
    "\n",
    "# Range of latitudes and longitudes\n",
    "lat_range = (-90, 90)\n",
    "lng_range = (-180, 180)"
   ]
  },
  {
   "cell_type": "code",
   "execution_count": 2,
   "metadata": {},
   "outputs": [],
   "source": [
    "# Define function for calculating linear regressions\n",
    "def regress_line(x,y):\n",
    "    (slope, intercept, rvalue, pvalue, stderr) = linregress(x,y)\n",
    "    y_regress = x * slope + intercept\n",
    "    line_text = \"y = \" + str(round(slope,2)) + \"x + \" + str(round(intercept,2))\n",
    "    print(f\"The r-value is: {rvalue ** 2}\")\n",
    "    return y_regress, line_text"
   ]
  },
  {
   "source": [
    "## Determine user's preferred data source"
   ],
   "cell_type": "markdown",
   "metadata": {}
  },
  {
   "cell_type": "code",
   "execution_count": 3,
   "metadata": {},
   "outputs": [
    {
     "output_type": "stream",
     "name": "stdout",
     "text": [
      "The user chose an invalid option.\n"
     ]
    },
    {
     "output_type": "error",
     "ename": "SystemExit",
     "evalue": "Stop executing notebook",
     "traceback": [
      "An exception has occurred, use %tb to see the full traceback.\n",
      "\u001b[1;31mSystemExit\u001b[0m\u001b[1;31m:\u001b[0m Stop executing notebook\n"
     ]
    }
   ],
   "source": [
    "# Determine if user would like to load pre-populated weather data or\n",
    "get_current_wx = input(\"Would you like to analyze current weather conditions (Y/N)?\")\n",
    "\n",
    "# If no, load provided data\n",
    "if get_current_wx == \"N\":\n",
    "    print(\"The user opted to load pre-populated weather data\")\n",
    "    input_file = \"input_data\\cities.csv\"\n",
    "    df_wx_data = pd.read_csv(input_file)\n",
    "elif get_current_wx == \"Y\":\n",
    "    print(\"The user opted to analyze current weather conditions\")\n",
    "else:\n",
    "    print(\"The user chose an invalid option.\")\n",
    "    raise SystemExit(\"Stop executing notebook\") "
   ]
  },
  {
   "cell_type": "markdown",
   "metadata": {},
   "source": [
    "## Generate Cities List"
   ]
  },
  {
   "cell_type": "code",
   "execution_count": null,
   "metadata": {},
   "outputs": [],
   "source": [
    "if get_current_wx == \"Y\":\n",
    "    # List for holding lat_lngs and cities\n",
    "    lat_lngs = []\n",
    "    cities = []\n",
    "\n",
    "    # Create a set of random lat and lng combinations\n",
    "    lats = np.random.uniform(lat_range[0], lat_range[1], size=1500)\n",
    "    lngs = np.random.uniform(lng_range[0], lng_range[1], size=1500)\n",
    "    lat_lngs = zip(lats, lngs)\n",
    "\n",
    "    # Identify nearest city for each lat, lng combination\n",
    "    for lat_lng in lat_lngs:\n",
    "        city = citipy.nearest_city(lat_lng[0], lat_lng[1]).city_name\n",
    "        \n",
    "        # If the city is unique, then add it to a our cities list\n",
    "        if city not in cities:\n",
    "            cities.append(city)\n",
    "\n",
    "    # Print the city count to confirm sufficient count\n",
    "    print(len(cities))\n",
    "else:\n",
    "    print(len(df_wx_data))"
   ]
  },
  {
   "cell_type": "markdown",
   "metadata": {},
   "source": [
    "### Perform API Calls\n",
    "* Perform a weather check on each city using a series of successive API calls.\n",
    "* Include a print log of each city as it'sbeing processed (with the city number and city name).\n"
   ]
  },
  {
   "cell_type": "code",
   "execution_count": null,
   "metadata": {},
   "outputs": [],
   "source": [
    "if get_current_wx == \"Y\":\n",
    "    # Setup and call weather API\n",
    "\n",
    "    # Save config information.\n",
    "    url = \"http://api.openweathermap.org/data/2.5/weather?\"\n",
    "    units = \"imperial\"\n",
    "\n",
    "    # Build partial query URL\n",
    "    query_url = f\"{url}appid={weather_api_key}&units={units}&q=\"\n",
    "\n",
    "    # set up lists to hold reponse info\n",
    "    city_list = []\n",
    "    lat_list = []\n",
    "    lon_list = []\n",
    "    max_temp_list = []\n",
    "    humidity_list = []\n",
    "    cloudiness_list = []\n",
    "    wndspd_list = []\n",
    "    country_list = []\n",
    "    date_list = []\n",
    "    call_counter = 1\n",
    "    call_set = 1\n",
    "\n",
    "    # Collect weather data using json api calls\n",
    "    print('Beginning Data Retrieval')     \n",
    "    print('-----------------------------')\n",
    "\n",
    "    # Loop through the list of cities and perform a request for data on each and populate data lists\n",
    "    for city in cities:\n",
    "        response = requests.get(query_url + city).json()\n",
    "        #print(json.dumps(response, indent=4, sort_keys=True))\n",
    "\n",
    "        try:\n",
    "            city_list.append(response['name'])\n",
    "            lat_list.append(response['coord']['lon'])\n",
    "            lon_list.append(response['coord']['lon'])\n",
    "            max_temp_list.append(response['main']['temp_max'])\n",
    "            humidity_list.append(response['main']['humidity'])\n",
    "            cloudiness_list.append(response['clouds']['all'])\n",
    "            wndspd_list.append(response['wind']['speed'])\n",
    "            country_list.append(response['sys']['country'])\n",
    "            date_list.append(response['dt'])\n",
    "\n",
    "            print(f'Processing Record {call_counter} of Set {call_set} | {city}')\n",
    "\n",
    "        except KeyError:\n",
    "            print(\"City not found. Skipping...\")\n",
    "\n",
    "        if call_counter > 49:\n",
    "            call_counter = 1\n",
    "            call_set += 1\n",
    "            time.sleep(10)    \n",
    "        else:\n",
    "            call_counter += 1\n",
    "\n",
    "    print('-----------------------------')\n",
    "    print('Data Retrieval Complete')      \n",
    "    print('-----------------------------')"
   ]
  },
  {
   "cell_type": "markdown",
   "metadata": {},
   "source": [
    "### Convert Raw Data to DataFrame\n",
    "* Export the city data into a .csv.\n",
    "* Display the DataFrame"
   ]
  },
  {
   "cell_type": "code",
   "execution_count": null,
   "metadata": {},
   "outputs": [],
   "source": [
    "if get_current_wx == \"Y\":\n",
    "    df_wx_data = pd.DataFrame({\n",
    "        \"City\": city_list,\n",
    "        \"Lat\": lat_list,\n",
    "        \"Lng\": lon_list,\n",
    "        \"Max Temp\": max_temp_list,\n",
    "        \"Humidity\": humidity_list,\n",
    "        \"Cloudiness\": cloudiness_list,\n",
    "        \"Wind Speed\": wndspd_list,\n",
    "        \"Country\": country_list,\n",
    "        \"Date\": date_list})\n",
    "else:\n",
    "    df_wx_data = df_wx_data.loc[:,[\"City\",\"Lat\",\"Lng\",\"Max Temp\",\"Humidity\",\"Cloudiness\",\"Wind Speed\",\"Country\",\"Date\"]]\n",
    "df_wx_data.to_csv(output_data_file)\n",
    "df_wx_data"
   ]
  },
  {
   "source": [
    "### Display summary statistics on the weather DataFrame"
   ],
   "cell_type": "markdown",
   "metadata": {}
  },
  {
   "cell_type": "code",
   "execution_count": null,
   "metadata": {},
   "outputs": [],
   "source": [
    "df_wx_data.describe()"
   ]
  },
  {
   "cell_type": "markdown",
   "metadata": {},
   "source": [
    "## Inspect the data and remove the cities where the humidity > 100%.\n",
    "----\n",
    "Skip this step if there are no cities that have humidity > 100%. "
   ]
  },
  {
   "cell_type": "code",
   "execution_count": null,
   "metadata": {},
   "outputs": [],
   "source": [
    "#  Check for cities that have humidity over 100%.\n",
    "df_invalid_humidity = df_wx_data.loc[df_wx_data[\"Humidity\"] > 100, [\"City\",\"Lat\",\"Lng\",\"Max Temp\",\"Humidity\",\"Cloudiness\",\"Wind Speed\",\"Country\",\"Date\"]]\n",
    "df_invalid_humidity"
   ]
  },
  {
   "cell_type": "code",
   "execution_count": null,
   "metadata": {},
   "outputs": [],
   "source": [
    "# Remove invalid humidity data\n",
    "df_wx_data_clean = df_wx_data.loc[df_wx_data[\"Humidity\"] <= 100, [\"City\",\"Lat\",\"Lng\",\"Max Temp\",\"Humidity\",\"Cloudiness\",\"Wind Speed\",\"Country\",\"Date\"]]\n",
    "df_wx_data_clean.describe()"
   ]
  },
  {
   "cell_type": "markdown",
   "metadata": {},
   "source": [
    "## Plotting the Data\n",
    "* Use proper labeling of the plots using plot titles (including date of analysis) and axes labels.\n",
    "* Save the plotted figures as .pngs."
   ]
  },
  {
   "cell_type": "code",
   "execution_count": null,
   "metadata": {},
   "outputs": [],
   "source": [
    "# Extract data collection date\n",
    "pretty_date = []\n",
    "for idx, row in df_wx_data_clean.iterrows():\n",
    "    data_time = time.localtime(row[\"Date\"])\n",
    "    pretty_date.append(f\"{data_time.tm_mon}/{data_time.tm_mday}/{data_time.tm_year}\")\n",
    "\n",
    "collection_date = str(set(pretty_date)).strip(\"{'}\")\n",
    "print(f\"Data collected on {collection_date}\")"
   ]
  },
  {
   "cell_type": "markdown",
   "metadata": {},
   "source": [
    "## Latitude vs. Temperature Plot"
   ]
  },
  {
   "cell_type": "code",
   "execution_count": null,
   "metadata": {},
   "outputs": [],
   "source": [
    "df_wx_data_clean.plot(\n",
    "    \"Lat\",\"Max Temp\",\n",
    "    title=f\"City Latitude vs Max Temperature ({collection_date})\",\n",
    "    kind='scatter',\n",
    "    grid=True,\n",
    "    style=\"o\",\n",
    "    facecolors=\"blue\",\n",
    "    edgecolors=\"black\",\n",
    "    alpha = 0.8,\n",
    "    s=30\n",
    "    )\n",
    "plt.xlabel(\"Latitude\")\n",
    "plt.ylabel(\"Max Temperature (F)\")\n",
    "plt.savefig(\"output_data/lat_temp.png\",facecolor='w')\n",
    "plt.show()"
   ]
  },
  {
   "cell_type": "markdown",
   "metadata": {},
   "source": [
    "## Latitude vs. Humidity Plot"
   ]
  },
  {
   "cell_type": "code",
   "execution_count": null,
   "metadata": {},
   "outputs": [],
   "source": [
    "df_wx_data_clean.plot(\n",
    "    \"Lat\",\"Humidity\",\n",
    "    title=f\"City Latitude vs Humidity ({collection_date})\",\n",
    "    kind='scatter',\n",
    "    grid=True,\n",
    "    style=\"o\",\n",
    "    facecolors=\"blue\",\n",
    "    edgecolors=\"black\",\n",
    "    alpha = 0.8,\n",
    "    s=30\n",
    "    )\n",
    "plt.xlabel(\"Latitude\")\n",
    "plt.ylabel(\"Humidity (%)\")\n",
    "plt.savefig(\"output_data/lat_humidity.png\",facecolor='w')\n",
    "plt.show()"
   ]
  },
  {
   "cell_type": "markdown",
   "metadata": {},
   "source": [
    "## Latitude vs. Cloudiness Plot"
   ]
  },
  {
   "cell_type": "code",
   "execution_count": null,
   "metadata": {},
   "outputs": [],
   "source": [
    "df_wx_data_clean.plot(\n",
    "    \"Lat\",\"Cloudiness\",\n",
    "    title=f\"City Latitude vs Cloudiness ({collection_date})\",\n",
    "    kind='scatter',\n",
    "    grid=True,\n",
    "    style=\"o\",\n",
    "    facecolors=\"blue\",\n",
    "    edgecolors=\"black\",\n",
    "    alpha = 0.8,\n",
    "    s=30\n",
    "    )\n",
    "plt.xlabel(\"Latitude\")\n",
    "plt.ylabel(\"Cloudiness (%)\")\n",
    "plt.savefig(\"output_data/lat_cloudiness.png\",facecolor='w')\n",
    "plt.show()"
   ]
  },
  {
   "cell_type": "markdown",
   "metadata": {},
   "source": [
    "## Latitude vs. Wind Speed Plot"
   ]
  },
  {
   "cell_type": "code",
   "execution_count": null,
   "metadata": {},
   "outputs": [],
   "source": [
    "df_wx_data_clean.plot(\n",
    "    \"Lat\",\"Wind Speed\",\n",
    "    title=f\"City Latitude vs Wind Speed ({collection_date})\",\n",
    "    kind='scatter',\n",
    "    grid=True,\n",
    "    style=\"o\",\n",
    "    facecolors=\"blue\",\n",
    "    edgecolors=\"black\",\n",
    "    alpha = 0.8,\n",
    "    s=30\n",
    "    )\n",
    "plt.xlabel(\"Latitude\")\n",
    "plt.ylabel(\"Wind Speed (mph)\")\n",
    "plt.savefig(\"output_data/lat_wndspd.png\",facecolor='w')\n",
    "plt.show()"
   ]
  },
  {
   "cell_type": "markdown",
   "metadata": {},
   "source": [
    "## Linear Regression\n",
    "\n",
    "Create separate figures for each hemisphere\n",
    "* Northern hemisphere\n",
    "* Southern hemisphere"
   ]
  },
  {
   "cell_type": "code",
   "execution_count": null,
   "metadata": {},
   "outputs": [],
   "source": [
    "# Collect data by northern and southern hemispheres\n",
    "df_wx_data_clean_N_hemi = df_wx_data_clean.loc[df_wx_data_clean[\"Lat\"]>=0]\n",
    "df_wx_data_clean_S_hemi = df_wx_data_clean.loc[df_wx_data_clean[\"Lat\"]<0]\n",
    "df_wx_data_clean_S_hemi"
   ]
  },
  {
   "source": [
    "### Latitude vs. Temperature Plots with linear regression"
   ],
   "cell_type": "markdown",
   "metadata": {}
  },
  {
   "cell_type": "markdown",
   "metadata": {},
   "source": [
    "####  Northern Hemisphere - Max Temp vs. Latitude Linear Regression"
   ]
  },
  {
   "cell_type": "code",
   "execution_count": null,
   "metadata": {},
   "outputs": [],
   "source": [
    "# Calculate Linear Regression\n",
    "y_regress, line_text = regress_line(df_wx_data_clean_N_hemi[\"Lat\"],df_wx_data_clean_N_hemi[\"Max Temp\"])\n",
    "\n",
    "# Plot the data\n",
    "df_wx_data_clean_N_hemi.plot(\n",
    "    \"Lat\",\"Max Temp\",\n",
    "    title=f\"Northern Hemisphere City Latitude vs Max Temperature ({collection_date})\",\n",
    "    kind='scatter',\n",
    "    grid=True,\n",
    "    style=\"o\",\n",
    "    facecolors=\"blue\",\n",
    "    edgecolors=\"black\",\n",
    "    alpha = 0.8,\n",
    "    s=30\n",
    "    )\n",
    "\n",
    "plt.plot(df_wx_data_clean_N_hemi[\"Lat\"],y_regress,\"r-\")\n",
    "plt.annotate(line_text,(0,20),fontsize=15,color=\"red\")\n",
    "\n",
    "plt.xlabel(\"Latitude\")\n",
    "plt.ylabel(\"Max Temperature (F)\")\n",
    "\n",
    "plt.savefig(\"output_data/north_lat_temp.png\",facecolor='w')\n",
    "plt.show()"
   ]
  },
  {
   "cell_type": "markdown",
   "metadata": {},
   "source": [
    "####  Southern Hemisphere - Max Temp vs. Latitude Linear Regression"
   ]
  },
  {
   "cell_type": "code",
   "execution_count": null,
   "metadata": {},
   "outputs": [],
   "source": [
    "# Calculate Linear Regression\n",
    "y_regress, line_text = regress_line(df_wx_data_clean_S_hemi[\"Lat\"],df_wx_data_clean_S_hemi[\"Max Temp\"])\n",
    "\n",
    "# Plot the data\n",
    "df_wx_data_clean_S_hemi.plot(\n",
    "    \"Lat\",\"Max Temp\",\n",
    "    title=f\"Southern Hemisphere City Latitude vs Max Temperature ({collection_date})\",\n",
    "    kind='scatter',\n",
    "    grid=True,\n",
    "    style=\"o\",\n",
    "    facecolors=\"blue\",\n",
    "    edgecolors=\"black\",\n",
    "    alpha = 0.8,\n",
    "    s=30\n",
    "    )\n",
    "\n",
    "plt.plot(df_wx_data_clean_S_hemi[\"Lat\"],y_regress,\"r-\")\n",
    "plt.annotate(line_text,(-30,40),fontsize=15,color=\"red\")\n",
    "\n",
    "plt.xlabel(\"Latitude\")\n",
    "plt.ylabel(\"Max Temperature (F)\")\n",
    "\n",
    "plt.savefig(\"output_data/south_lat_temp.png\",facecolor='w')\n",
    "plt.show()"
   ]
  },
  {
   "cell_type": "markdown",
   "metadata": {},
   "source": [
    "####  Northern Hemisphere - Humidity (%) vs. Latitude Linear Regression"
   ]
  },
  {
   "cell_type": "code",
   "execution_count": null,
   "metadata": {},
   "outputs": [],
   "source": [
    "# Calculate Linear Regression\n",
    "y_regress, line_text = regress_line(df_wx_data_clean_N_hemi[\"Lat\"],df_wx_data_clean_N_hemi[\"Humidity\"])\n",
    "\n",
    "# Plot the data\n",
    "df_wx_data_clean_N_hemi.plot(\n",
    "    \"Lat\",\"Humidity\",\n",
    "    title=f\"Northern Hemisphere City Latitude vs Humidity ({collection_date})\",\n",
    "    kind='scatter',\n",
    "    grid=True,\n",
    "    style=\"o\",\n",
    "    facecolors=\"blue\",\n",
    "    edgecolors=\"black\",\n",
    "    alpha = 0.8,\n",
    "    s=30\n",
    "    )\n",
    "\n",
    "plt.plot(df_wx_data_clean_N_hemi[\"Lat\"],y_regress,\"r-\")\n",
    "plt.annotate(line_text,(45,10),fontsize=15,color=\"red\")\n",
    "\n",
    "plt.xlabel(\"Latitude\")\n",
    "plt.ylabel(\"Humidity (%)\")\n",
    "\n",
    "plt.savefig(\"output_data/north_lat_humidity.png\",facecolor='w')\n",
    "plt.show()"
   ]
  },
  {
   "cell_type": "markdown",
   "metadata": {},
   "source": [
    "####  Southern Hemisphere - Humidity (%) vs. Latitude Linear Regression"
   ]
  },
  {
   "cell_type": "code",
   "execution_count": null,
   "metadata": {},
   "outputs": [],
   "source": [
    "# Calculate Linear Regression\n",
    "y_regress, line_text = regress_line(df_wx_data_clean_S_hemi[\"Lat\"],df_wx_data_clean_S_hemi[\"Humidity\"])\n",
    "\n",
    "# Plot the data\n",
    "df_wx_data_clean_S_hemi.plot(\n",
    "    \"Lat\",\"Humidity\",\n",
    "    title=f\"Southern Hemisphere City Latitude vs Humidity ({collection_date})\",\n",
    "    kind='scatter',\n",
    "    grid=True,\n",
    "    style=\"o\",\n",
    "    facecolors=\"blue\",\n",
    "    edgecolors=\"black\",\n",
    "    alpha = 0.8,\n",
    "    s=30\n",
    "    )\n",
    "\n",
    "plt.plot(df_wx_data_clean_S_hemi[\"Lat\"],y_regress,\"r-\")\n",
    "plt.annotate(line_text,(-50,20),fontsize=15,color=\"red\")\n",
    "\n",
    "plt.xlabel(\"Latitude\")\n",
    "plt.ylabel(\"Humidity (%)\")\n",
    "\n",
    "plt.savefig(\"output_data/south_lat_humidity.png\",facecolor='w')\n",
    "plt.show()"
   ]
  },
  {
   "cell_type": "markdown",
   "metadata": {},
   "source": [
    "####  Northern Hemisphere - Cloudiness (%) vs. Latitude Linear Regression"
   ]
  },
  {
   "cell_type": "code",
   "execution_count": null,
   "metadata": {},
   "outputs": [],
   "source": [
    "# Calculate Linear Regression\n",
    "y_regress, line_text = regress_line(df_wx_data_clean_N_hemi[\"Lat\"],df_wx_data_clean_N_hemi[\"Cloudiness\"])\n",
    "\n",
    "# Plot the data\n",
    "df_wx_data_clean_N_hemi.plot(\n",
    "    \"Lat\",\"Cloudiness\",\n",
    "    title=f\"Northern Hemisphere City Latitude vs Cloudiness ({collection_date})\",\n",
    "    kind='scatter',\n",
    "    grid=True,\n",
    "    style=\"o\",\n",
    "    facecolors=\"blue\",\n",
    "    edgecolors=\"black\",\n",
    "    alpha = 0.8,\n",
    "    s=30\n",
    "    )\n",
    "\n",
    "plt.plot(df_wx_data_clean_N_hemi[\"Lat\"],y_regress,\"r-\")\n",
    "plt.annotate(line_text,(45,10),fontsize=15,color=\"red\")\n",
    "\n",
    "plt.xlabel(\"Latitude\")\n",
    "plt.ylabel(\"Cloudiness (%)\")\n",
    "\n",
    "plt.savefig(\"output_data/north_lat_cloudiness.png\",facecolor='w')\n",
    "plt.show()"
   ]
  },
  {
   "cell_type": "markdown",
   "metadata": {},
   "source": [
    "####  Southern Hemisphere - Cloudiness (%) vs. Latitude Linear Regression"
   ]
  },
  {
   "cell_type": "code",
   "execution_count": null,
   "metadata": {},
   "outputs": [],
   "source": [
    "# Calculate Linear Regression\n",
    "y_regress, line_text = regress_line(df_wx_data_clean_S_hemi[\"Lat\"],df_wx_data_clean_S_hemi[\"Cloudiness\"])\n",
    "\n",
    "# Plot the data\n",
    "df_wx_data_clean_S_hemi.plot(\n",
    "    \"Lat\",\"Cloudiness\",\n",
    "    title=f\"Southern Hemisphere City Latitude vs Cloudiness ({collection_date})\",\n",
    "    kind='scatter',\n",
    "    grid=True,\n",
    "    style=\"o\",\n",
    "    facecolors=\"blue\",\n",
    "    edgecolors=\"black\",\n",
    "    alpha = 0.8,\n",
    "    s=30\n",
    "    )\n",
    "\n",
    "plt.plot(df_wx_data_clean_S_hemi[\"Lat\"],y_regress,\"r-\")\n",
    "plt.annotate(line_text,(-55,20),fontsize=15,color=\"red\")\n",
    "\n",
    "plt.xlabel(\"Latitude\")\n",
    "plt.ylabel(\"Cloudiness (%)\")\n",
    "\n",
    "plt.savefig(\"output_data/south_lat_cloudiness.png\",facecolor='w')\n",
    "plt.show()"
   ]
  },
  {
   "cell_type": "markdown",
   "metadata": {},
   "source": [
    "####  Northern Hemisphere - Wind Speed (mph) vs. Latitude Linear Regression"
   ]
  },
  {
   "cell_type": "code",
   "execution_count": null,
   "metadata": {},
   "outputs": [],
   "source": [
    "# Calculate Linear Regression\n",
    "y_regress, line_text = regress_line(df_wx_data_clean_N_hemi[\"Lat\"],df_wx_data_clean_N_hemi[\"Wind Speed\"])\n",
    "\n",
    "# Plot the data\n",
    "df_wx_data_clean_N_hemi.plot(\n",
    "    \"Lat\",\"Wind Speed\",\n",
    "    title=f\"Northern Hemisphere City Latitude vs Wind Speed ({collection_date})\",\n",
    "    kind='scatter',\n",
    "    grid=True,\n",
    "    style=\"o\",\n",
    "    facecolors=\"blue\",\n",
    "    edgecolors=\"black\",\n",
    "    alpha = 0.8,\n",
    "    s=30\n",
    "    )\n",
    "\n",
    "plt.plot(df_wx_data_clean_N_hemi[\"Lat\"],y_regress,\"r-\")\n",
    "plt.annotate(line_text,(30,27),fontsize=15,color=\"red\")\n",
    "\n",
    "plt.xlabel(\"Latitude\")\n",
    "plt.ylabel(\"Wind Speed (MPH)\")\n",
    "\n",
    "plt.savefig(\"output_data/north_lat_wndspd.png\",facecolor='w')\n",
    "plt.show()"
   ]
  },
  {
   "cell_type": "markdown",
   "metadata": {},
   "source": [
    "####  Southern Hemisphere - Wind Speed (mph) vs. Latitude Linear Regression"
   ]
  },
  {
   "cell_type": "code",
   "execution_count": null,
   "metadata": {},
   "outputs": [],
   "source": [
    "# Calculate Linear Regression\n",
    "y_regress, line_text = regress_line(df_wx_data_clean_S_hemi[\"Lat\"],df_wx_data_clean_S_hemi[\"Wind Speed\"])\n",
    "\n",
    "# Plot the data\n",
    "df_wx_data_clean_S_hemi.plot(\n",
    "    \"Lat\",\"Wind Speed\",\n",
    "    title=f\"Southern Hemisphere City Latitude vs Wind Speed ({collection_date})\",\n",
    "    kind='scatter',\n",
    "    grid=True,\n",
    "    style=\"o\",\n",
    "    facecolors=\"blue\",\n",
    "    edgecolors=\"black\",\n",
    "    alpha = 0.8,\n",
    "    s=30\n",
    "    )\n",
    "\n",
    "plt.plot(df_wx_data_clean_S_hemi[\"Lat\"],y_regress,\"r-\")\n",
    "plt.annotate(line_text,(-30,32),fontsize=15,color=\"red\")\n",
    "\n",
    "plt.xlabel(\"Latitude\")\n",
    "plt.ylabel(\"Wind Speed (MPH)\")\n",
    "\n",
    "plt.savefig(\"output_data/south_lat_wndspd.png\",facecolor='w')\n",
    "plt.show()"
   ]
  }
 ],
 "metadata": {
  "anaconda-cloud": {},
  "kernel_info": {
   "name": "python3"
  },
  "kernelspec": {
   "name": "python379jvsc74a57bd0972b5e8961cf972370136eb15a5ce67c848ddf5ca1c37bd5b3d0153e753bc276",
   "display_name": "Python 3.7.9 64-bit ('PythonData': conda)"
  },
  "language_info": {
   "codemirror_mode": {
    "name": "ipython",
    "version": 3
   },
   "file_extension": ".py",
   "mimetype": "text/x-python",
   "name": "python",
   "nbconvert_exporter": "python",
   "pygments_lexer": "ipython3",
   "version": "3.7.9-final"
  },
  "latex_envs": {
   "LaTeX_envs_menu_present": true,
   "autoclose": false,
   "autocomplete": true,
   "bibliofile": "biblio.bib",
   "cite_by": "apalike",
   "current_citInitial": 1,
   "eqLabelWithNumbers": true,
   "eqNumInitial": 1,
   "hotkeys": {
    "equation": "Ctrl-E",
    "itemize": "Ctrl-I"
   },
   "labels_anchors": false,
   "latex_user_defs": false,
   "report_style_numbering": false,
   "user_envs_cfg": false
  },
  "nteract": {
   "version": "0.12.3"
  }
 },
 "nbformat": 4,
 "nbformat_minor": 2
}