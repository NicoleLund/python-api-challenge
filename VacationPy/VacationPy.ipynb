{
 "cells": [
  {
   "cell_type": "markdown",
   "metadata": {},
   "source": [
    "# VacationPy\n",
    "----\n",
    "\n",
    "Written in the Python 3.7.9 Environment\n",
    "\n",
    "By Nicole Lund \n",
    "\n",
    "In partnership with Anne Niemiec.\n",
    "\n",
    "The starter code and pseudo code for this challenge was provided and can be reviewed in python-api-challenge\\assignment_source_files\n",
    "\n",
    "I chose to use the cities.csv file provided in python-api-challenge\\assignment_source_files for my source data.\n",
    "\n",
    "#### Note\n",
    "* Keep an eye on your API usage. Use https://developers.google.com/maps/reporting/gmp-reporting as reference for how to monitor your usage and billing.\n",
    "\n",
    "* Instructions have been included for each segment. You do not have to follow them exactly, but they are included to help you think through the steps."
   ]
  },
  {
   "cell_type": "code",
   "execution_count": 1,
   "metadata": {},
   "outputs": [],
   "source": [
    "# Dependencies and Setup\n",
    "import matplotlib.pyplot as plt\n",
    "import pandas as pd\n",
    "import numpy as np\n",
    "import requests\n",
    "import json\n",
    "import gmaps\n",
    "import os\n",
    "\n",
    "# Import API key\n",
    "from api_keys import g_key\n",
    "if g_key == \"YOUR KEY HERE!\":\n",
    "    import sys\n",
    "    sys.path.append(r\"C:\\Users\\nlund\\Documents\\GitHub\\untracked_files\")\n",
    "    from untracked_api_keys import g_key"
   ]
  },
  {
   "cell_type": "markdown",
   "metadata": {},
   "source": [
    "### Store Part I results into DataFrame\n",
    "* Load the csv exported in Part I to a DataFrame"
   ]
  },
  {
   "cell_type": "code",
   "execution_count": 2,
   "metadata": {},
   "outputs": [
    {
     "output_type": "execute_result",
     "data": {
      "text/plain": [
       "   City_ID       City  Cloudiness Country        Date  Humidity    Lat  \\\n",
       "0        0  ostrovnoy           2      RU  1558378754        72  68.05   \n",
       "1        1  mahebourg          75      MU  1558378503        74 -20.41   \n",
       "2        2    qaanaaq          25      GL  1558378755        73  77.48   \n",
       "3        3     zhuhai           0      CN  1558378755        39  40.71   \n",
       "4        4  cape town          20      ZA  1558378755        76 -33.93   \n",
       "\n",
       "      Lng  Max Temp  Wind Speed  \n",
       "0   39.51     37.50        7.16  \n",
       "1   57.70     78.80       11.41  \n",
       "2  -69.36     22.20        2.37  \n",
       "3  112.04     44.60        4.47  \n",
       "4   18.42     55.99        8.05  "
      ],
      "text/html": "<div>\n<style scoped>\n    .dataframe tbody tr th:only-of-type {\n        vertical-align: middle;\n    }\n\n    .dataframe tbody tr th {\n        vertical-align: top;\n    }\n\n    .dataframe thead th {\n        text-align: right;\n    }\n</style>\n<table border=\"1\" class=\"dataframe\">\n  <thead>\n    <tr style=\"text-align: right;\">\n      <th></th>\n      <th>City_ID</th>\n      <th>City</th>\n      <th>Cloudiness</th>\n      <th>Country</th>\n      <th>Date</th>\n      <th>Humidity</th>\n      <th>Lat</th>\n      <th>Lng</th>\n      <th>Max Temp</th>\n      <th>Wind Speed</th>\n    </tr>\n  </thead>\n  <tbody>\n    <tr>\n      <th>0</th>\n      <td>0</td>\n      <td>ostrovnoy</td>\n      <td>2</td>\n      <td>RU</td>\n      <td>1558378754</td>\n      <td>72</td>\n      <td>68.05</td>\n      <td>39.51</td>\n      <td>37.50</td>\n      <td>7.16</td>\n    </tr>\n    <tr>\n      <th>1</th>\n      <td>1</td>\n      <td>mahebourg</td>\n      <td>75</td>\n      <td>MU</td>\n      <td>1558378503</td>\n      <td>74</td>\n      <td>-20.41</td>\n      <td>57.70</td>\n      <td>78.80</td>\n      <td>11.41</td>\n    </tr>\n    <tr>\n      <th>2</th>\n      <td>2</td>\n      <td>qaanaaq</td>\n      <td>25</td>\n      <td>GL</td>\n      <td>1558378755</td>\n      <td>73</td>\n      <td>77.48</td>\n      <td>-69.36</td>\n      <td>22.20</td>\n      <td>2.37</td>\n    </tr>\n    <tr>\n      <th>3</th>\n      <td>3</td>\n      <td>zhuhai</td>\n      <td>0</td>\n      <td>CN</td>\n      <td>1558378755</td>\n      <td>39</td>\n      <td>40.71</td>\n      <td>112.04</td>\n      <td>44.60</td>\n      <td>4.47</td>\n    </tr>\n    <tr>\n      <th>4</th>\n      <td>4</td>\n      <td>cape town</td>\n      <td>20</td>\n      <td>ZA</td>\n      <td>1558378755</td>\n      <td>76</td>\n      <td>-33.93</td>\n      <td>18.42</td>\n      <td>55.99</td>\n      <td>8.05</td>\n    </tr>\n  </tbody>\n</table>\n</div>"
     },
     "metadata": {},
     "execution_count": 2
    }
   ],
   "source": [
    "input_file = r\"input_data/cities.csv\"\n",
    "df_wx = pd.read_csv(input_file)\n",
    "df_wx.head()"
   ]
  },
  {
   "cell_type": "code",
   "execution_count": 15,
   "metadata": {},
   "outputs": [
    {
     "output_type": "execute_result",
     "data": {
      "text/plain": [
       "              Lat         Lng    Max Temp    Humidity  Cloudiness  Wind Speed  \\\n",
       "count  547.000000  547.000000  547.000000  547.000000  547.000000  547.000000   \n",
       "mean    19.710402   20.861609   64.975119   67.265082   49.495430    8.657057   \n",
       "std     33.637627   90.285396   18.721163   21.723477   36.887333    5.859917   \n",
       "min    -54.810000 -173.230000    4.920000    4.000000    0.000000    0.540000   \n",
       "25%     -6.315000  -60.820000   53.940000   52.000000   14.000000    4.680000   \n",
       "50%     21.430000   21.550000   64.990000   71.000000   47.000000    7.000000   \n",
       "75%     47.895000  103.165000   80.600000   86.000000   81.000000   11.410000   \n",
       "max     78.220000  179.320000  104.100000  100.000000  100.000000   46.080000   \n",
       "\n",
       "               Date  \n",
       "count  5.470000e+02  \n",
       "mean   1.558379e+09  \n",
       "std    7.826709e+01  \n",
       "min    1.558378e+09  \n",
       "25%    1.558379e+09  \n",
       "50%    1.558379e+09  \n",
       "75%    1.558379e+09  \n",
       "max    1.558379e+09  "
      ],
      "text/html": "<div>\n<style scoped>\n    .dataframe tbody tr th:only-of-type {\n        vertical-align: middle;\n    }\n\n    .dataframe tbody tr th {\n        vertical-align: top;\n    }\n\n    .dataframe thead th {\n        text-align: right;\n    }\n</style>\n<table border=\"1\" class=\"dataframe\">\n  <thead>\n    <tr style=\"text-align: right;\">\n      <th></th>\n      <th>Lat</th>\n      <th>Lng</th>\n      <th>Max Temp</th>\n      <th>Humidity</th>\n      <th>Cloudiness</th>\n      <th>Wind Speed</th>\n      <th>Date</th>\n    </tr>\n  </thead>\n  <tbody>\n    <tr>\n      <th>count</th>\n      <td>547.000000</td>\n      <td>547.000000</td>\n      <td>547.000000</td>\n      <td>547.000000</td>\n      <td>547.000000</td>\n      <td>547.000000</td>\n      <td>5.470000e+02</td>\n    </tr>\n    <tr>\n      <th>mean</th>\n      <td>19.710402</td>\n      <td>20.861609</td>\n      <td>64.975119</td>\n      <td>67.265082</td>\n      <td>49.495430</td>\n      <td>8.657057</td>\n      <td>1.558379e+09</td>\n    </tr>\n    <tr>\n      <th>std</th>\n      <td>33.637627</td>\n      <td>90.285396</td>\n      <td>18.721163</td>\n      <td>21.723477</td>\n      <td>36.887333</td>\n      <td>5.859917</td>\n      <td>7.826709e+01</td>\n    </tr>\n    <tr>\n      <th>min</th>\n      <td>-54.810000</td>\n      <td>-173.230000</td>\n      <td>4.920000</td>\n      <td>4.000000</td>\n      <td>0.000000</td>\n      <td>0.540000</td>\n      <td>1.558378e+09</td>\n    </tr>\n    <tr>\n      <th>25%</th>\n      <td>-6.315000</td>\n      <td>-60.820000</td>\n      <td>53.940000</td>\n      <td>52.000000</td>\n      <td>14.000000</td>\n      <td>4.680000</td>\n      <td>1.558379e+09</td>\n    </tr>\n    <tr>\n      <th>50%</th>\n      <td>21.430000</td>\n      <td>21.550000</td>\n      <td>64.990000</td>\n      <td>71.000000</td>\n      <td>47.000000</td>\n      <td>7.000000</td>\n      <td>1.558379e+09</td>\n    </tr>\n    <tr>\n      <th>75%</th>\n      <td>47.895000</td>\n      <td>103.165000</td>\n      <td>80.600000</td>\n      <td>86.000000</td>\n      <td>81.000000</td>\n      <td>11.410000</td>\n      <td>1.558379e+09</td>\n    </tr>\n    <tr>\n      <th>max</th>\n      <td>78.220000</td>\n      <td>179.320000</td>\n      <td>104.100000</td>\n      <td>100.000000</td>\n      <td>100.000000</td>\n      <td>46.080000</td>\n      <td>1.558379e+09</td>\n    </tr>\n  </tbody>\n</table>\n</div>"
     },
     "metadata": {},
     "execution_count": 15
    }
   ],
   "source": [
    "# Remove invalid humidity data\n",
    "df_wx = df_wx.loc[df_wx[\"Humidity\"] <= 100, [\"City\",\"Lat\",\"Lng\",\"Max Temp\",\"Humidity\",\"Cloudiness\",\"Wind Speed\",\"Country\",\"Date\"]]\n",
    "df_wx.describe()"
   ]
  },
  {
   "cell_type": "markdown",
   "metadata": {},
   "source": [
    "### Humidity Heatmap\n",
    "* Configure gmaps.\n",
    "* Use the Lat and Lng as locations and Humidity as the weight.\n",
    "* Add Heatmap layer to map."
   ]
  },
  {
   "cell_type": "code",
   "execution_count": 16,
   "metadata": {},
   "outputs": [],
   "source": [
    "# Configure gmaps\n",
    "gmaps.configure(api_key=g_key)\n",
    "\n",
    "# Customize the size of the figure\n",
    "figure_layout = {\n",
    "    'width': '600px',\n",
    "    'height': '600px',\n",
    "    'border': '1px solid black',\n",
    "    'padding': '1px',\n",
    "    'margin': '0 auto 0 auto'\n",
    "}\n",
    "fig = gmaps.figure(layout=figure_layout)"
   ]
  },
  {
   "cell_type": "code",
   "execution_count": 17,
   "metadata": {},
   "outputs": [],
   "source": [
    "# Collect data of interest from DataFrame\n",
    "df_coordinates = df_wx[['Lat','Lng']]\n",
    "s_humidity = df_wx.Humidity"
   ]
  },
  {
   "cell_type": "code",
   "execution_count": 18,
   "metadata": {},
   "outputs": [
    {
     "output_type": "display_data",
     "data": {
      "text/plain": "Figure(layout=FigureLayout(border='1px solid black', height='600px', margin='0 auto 0 auto', padding='1px', wi…",
      "application/vnd.jupyter.widget-view+json": {
       "version_major": 2,
       "version_minor": 0,
       "model_id": "f9905062cd7a44578cb7df9e76472241"
      }
     },
     "metadata": {}
    }
   ],
   "source": [
    "# Create a Humidity Heatmap\n",
    "heat_layer = gmaps.heatmap_layer(df_coordinates,\n",
    "    weights=s_humidity, \n",
    "    dissipating=False, \n",
    "    max_intensity=s_humidity.max(),\n",
    "    point_radius = 2)\n",
    "fig.add_layer(heat_layer)\n",
    "fig"
   ]
  },
  {
   "cell_type": "markdown",
   "metadata": {},
   "source": [
    "### Create new DataFrame fitting weather criteria\n",
    "* Narrow down the cities to fit weather conditions.\n",
    "* Drop any rows will null values."
   ]
  },
  {
   "cell_type": "code",
   "execution_count": 20,
   "metadata": {},
   "outputs": [],
   "source": [
    "# Collect wx data for cities with ideal conditions\n",
    "df_ideal_wx = df_wx.loc[\n",
    "    (df_wx[\"Max Temp\"] < 80) &\n",
    "    (df_wx[\"Max Temp\"] > 70) &\n",
    "    (df_wx[\"Wind Speed\"] < 10) &\n",
    "    (df_wx[\"Cloudiness\"] < 15),\n",
    "    [\"City\",\"Cloudiness\",\n",
    "     \"Country\",\"Date\",\"Humidity\",\n",
    "    \"Lat\",\"Lng\",\"Max Temp\",\"Wind Speed\"]\n",
    "]"
   ]
  },
  {
   "cell_type": "code",
   "execution_count": 21,
   "metadata": {},
   "outputs": [
    {
     "output_type": "execute_result",
     "data": {
      "text/plain": [
       "       Cloudiness          Date   Humidity        Lat         Lng   Max Temp  \\\n",
       "count   12.000000  1.200000e+01  12.000000  12.000000   12.000000  12.000000   \n",
       "mean     2.166667  1.558379e+09  69.166667   2.881667   53.965833  75.506667   \n",
       "std      3.785939  1.025758e+02  22.670900  22.053344   61.303681   2.908199   \n",
       "min      0.000000  1.558378e+09  26.000000 -30.170000  -50.220000  70.980000   \n",
       "25%      0.000000  1.558379e+09  55.500000 -15.777500   32.477500  73.320000   \n",
       "50%      0.000000  1.558379e+09  69.000000   7.925000   54.695000  75.880000   \n",
       "75%      2.500000  1.558379e+09  89.000000  17.235000  103.050000  77.475000   \n",
       "max     12.000000  1.558379e+09  99.000000  35.170000  126.060000  79.080000   \n",
       "\n",
       "       Wind Speed  \n",
       "count   12.000000  \n",
       "mean     4.597500  \n",
       "std      2.790976  \n",
       "min      1.070000  \n",
       "25%      2.445000  \n",
       "50%      4.765000  \n",
       "75%      5.857500  \n",
       "max      9.170000  "
      ],
      "text/html": "<div>\n<style scoped>\n    .dataframe tbody tr th:only-of-type {\n        vertical-align: middle;\n    }\n\n    .dataframe tbody tr th {\n        vertical-align: top;\n    }\n\n    .dataframe thead th {\n        text-align: right;\n    }\n</style>\n<table border=\"1\" class=\"dataframe\">\n  <thead>\n    <tr style=\"text-align: right;\">\n      <th></th>\n      <th>Cloudiness</th>\n      <th>Date</th>\n      <th>Humidity</th>\n      <th>Lat</th>\n      <th>Lng</th>\n      <th>Max Temp</th>\n      <th>Wind Speed</th>\n    </tr>\n  </thead>\n  <tbody>\n    <tr>\n      <th>count</th>\n      <td>12.000000</td>\n      <td>1.200000e+01</td>\n      <td>12.000000</td>\n      <td>12.000000</td>\n      <td>12.000000</td>\n      <td>12.000000</td>\n      <td>12.000000</td>\n    </tr>\n    <tr>\n      <th>mean</th>\n      <td>2.166667</td>\n      <td>1.558379e+09</td>\n      <td>69.166667</td>\n      <td>2.881667</td>\n      <td>53.965833</td>\n      <td>75.506667</td>\n      <td>4.597500</td>\n    </tr>\n    <tr>\n      <th>std</th>\n      <td>3.785939</td>\n      <td>1.025758e+02</td>\n      <td>22.670900</td>\n      <td>22.053344</td>\n      <td>61.303681</td>\n      <td>2.908199</td>\n      <td>2.790976</td>\n    </tr>\n    <tr>\n      <th>min</th>\n      <td>0.000000</td>\n      <td>1.558378e+09</td>\n      <td>26.000000</td>\n      <td>-30.170000</td>\n      <td>-50.220000</td>\n      <td>70.980000</td>\n      <td>1.070000</td>\n    </tr>\n    <tr>\n      <th>25%</th>\n      <td>0.000000</td>\n      <td>1.558379e+09</td>\n      <td>55.500000</td>\n      <td>-15.777500</td>\n      <td>32.477500</td>\n      <td>73.320000</td>\n      <td>2.445000</td>\n    </tr>\n    <tr>\n      <th>50%</th>\n      <td>0.000000</td>\n      <td>1.558379e+09</td>\n      <td>69.000000</td>\n      <td>7.925000</td>\n      <td>54.695000</td>\n      <td>75.880000</td>\n      <td>4.765000</td>\n    </tr>\n    <tr>\n      <th>75%</th>\n      <td>2.500000</td>\n      <td>1.558379e+09</td>\n      <td>89.000000</td>\n      <td>17.235000</td>\n      <td>103.050000</td>\n      <td>77.475000</td>\n      <td>5.857500</td>\n    </tr>\n    <tr>\n      <th>max</th>\n      <td>12.000000</td>\n      <td>1.558379e+09</td>\n      <td>99.000000</td>\n      <td>35.170000</td>\n      <td>126.060000</td>\n      <td>79.080000</td>\n      <td>9.170000</td>\n    </tr>\n  </tbody>\n</table>\n</div>"
     },
     "metadata": {},
     "execution_count": 21
    }
   ],
   "source": [
    "# Remove rows with NaN values\n",
    "df_ideal_wx.dropna(inplace=True)\n",
    "df_ideal_wx.describe()"
   ]
  },
  {
   "cell_type": "markdown",
   "metadata": {},
   "source": [
    "### Hotel Map\n",
    "* Store into variable named `hotel_df`.\n",
    "* Add a \"Hotel Name\" column to the DataFrame.\n",
    "* Set parameters to search for hotels with 5000 meters.\n",
    "* Hit the Google Places API for each city's coordinates.\n",
    "* Store the first Hotel result into the DataFrame.\n",
    "* Plot markers on top of the heatmap."
   ]
  },
  {
   "cell_type": "code",
   "execution_count": 22,
   "metadata": {},
   "outputs": [],
   "source": [
    "# Initialize Google Places Search\n",
    "hotel_df = df_ideal_wx.copy()\n",
    "\n",
    "params = {\n",
    "    \"keyword\": \"Hotel\",\n",
    "    \"radius\": 5000,\n",
    "    \"key\": g_key\n",
    "}\n",
    "\n",
    "# base url\n",
    "base_url = \"https://maps.googleapis.com/maps/api/place/nearbysearch/json\""
   ]
  },
  {
   "cell_type": "code",
   "execution_count": 23,
   "metadata": {},
   "outputs": [
    {
     "output_type": "stream",
     "name": "stdout",
     "text": [
      "vaini, skipped due to no hotels\n",
      "dingle, skipped due to no hotels\n",
      "birjand, skipped due to no hotels\n",
      "baylo, skipped due to no hotels\n"
     ]
    }
   ],
   "source": [
    "# Collect hotel names\n",
    "hotel_names = []\n",
    "\n",
    "for index, row in hotel_df.iterrows():\n",
    "    # Define search coordinates and add to params\n",
    "    coord = row[[\"Lat\",\"Lng\"]].tolist()\n",
    "    params[\"location\"] = f\"{coord[0]}, {coord[1]}\"\n",
    "    \n",
    "    # run a request using params dictionary\n",
    "    response = requests.get(base_url, params=params).json()\n",
    "    # print(json.dumps(response, indent=4,sort_keys=True))\n",
    "    try:\n",
    "        hotel_names.append(response[\"results\"][0][\"name\"])\n",
    "    except IndexError:\n",
    "        hotel_names.append(\"No Hotels Found\")\n",
    "        print(f'{row[\"City\"]}, skipped due to no hotels')"
   ]
  },
  {
   "cell_type": "code",
   "execution_count": 24,
   "metadata": {},
   "outputs": [
    {
     "output_type": "execute_result",
     "data": {
      "text/plain": [
       "             City  Cloudiness Country        Date  Humidity    Lat    Lng  \\\n",
       "70   ponta do sol           0      BR  1558378767        57 -20.63 -46.00   \n",
       "87       ambilobe           2      MG  1558378770        92 -13.19  49.05   \n",
       "88       cidreira           0      BR  1558378770        66 -30.17 -50.22   \n",
       "138     morondava           0      MG  1558378780        69 -20.30  44.28   \n",
       "139         vaini           0      IN  1558378780        88  15.34  74.49   \n",
       "\n",
       "     Max Temp  Wind Speed                           Hotel Name  \n",
       "70      73.68        5.32                      Camaleao Hostel  \n",
       "87      74.76        4.52                       Hotel National  \n",
       "88      76.56        5.50                        Hotel Castelo  \n",
       "138     79.08        9.06  Palissandre Cote Ouest resort & SPA  \n",
       "139     78.90        1.59                      No Hotels Found  "
      ],
      "text/html": "<div>\n<style scoped>\n    .dataframe tbody tr th:only-of-type {\n        vertical-align: middle;\n    }\n\n    .dataframe tbody tr th {\n        vertical-align: top;\n    }\n\n    .dataframe thead th {\n        text-align: right;\n    }\n</style>\n<table border=\"1\" class=\"dataframe\">\n  <thead>\n    <tr style=\"text-align: right;\">\n      <th></th>\n      <th>City</th>\n      <th>Cloudiness</th>\n      <th>Country</th>\n      <th>Date</th>\n      <th>Humidity</th>\n      <th>Lat</th>\n      <th>Lng</th>\n      <th>Max Temp</th>\n      <th>Wind Speed</th>\n      <th>Hotel Name</th>\n    </tr>\n  </thead>\n  <tbody>\n    <tr>\n      <th>70</th>\n      <td>ponta do sol</td>\n      <td>0</td>\n      <td>BR</td>\n      <td>1558378767</td>\n      <td>57</td>\n      <td>-20.63</td>\n      <td>-46.00</td>\n      <td>73.68</td>\n      <td>5.32</td>\n      <td>Camaleao Hostel</td>\n    </tr>\n    <tr>\n      <th>87</th>\n      <td>ambilobe</td>\n      <td>2</td>\n      <td>MG</td>\n      <td>1558378770</td>\n      <td>92</td>\n      <td>-13.19</td>\n      <td>49.05</td>\n      <td>74.76</td>\n      <td>4.52</td>\n      <td>Hotel National</td>\n    </tr>\n    <tr>\n      <th>88</th>\n      <td>cidreira</td>\n      <td>0</td>\n      <td>BR</td>\n      <td>1558378770</td>\n      <td>66</td>\n      <td>-30.17</td>\n      <td>-50.22</td>\n      <td>76.56</td>\n      <td>5.50</td>\n      <td>Hotel Castelo</td>\n    </tr>\n    <tr>\n      <th>138</th>\n      <td>morondava</td>\n      <td>0</td>\n      <td>MG</td>\n      <td>1558378780</td>\n      <td>69</td>\n      <td>-20.30</td>\n      <td>44.28</td>\n      <td>79.08</td>\n      <td>9.06</td>\n      <td>Palissandre Cote Ouest resort &amp; SPA</td>\n    </tr>\n    <tr>\n      <th>139</th>\n      <td>vaini</td>\n      <td>0</td>\n      <td>IN</td>\n      <td>1558378780</td>\n      <td>88</td>\n      <td>15.34</td>\n      <td>74.49</td>\n      <td>78.90</td>\n      <td>1.59</td>\n      <td>No Hotels Found</td>\n    </tr>\n  </tbody>\n</table>\n</div>"
     },
     "metadata": {},
     "execution_count": 24
    }
   ],
   "source": [
    "# Add hotel name column to the DataFrame\n",
    "hotel_df[\"Hotel Name\"] = hotel_names\n",
    "hotel_df.head()"
   ]
  },
  {
   "cell_type": "code",
   "execution_count": 25,
   "metadata": {},
   "outputs": [],
   "source": [
    "# NOTE: Do not change any of the code in this cell\n",
    "\n",
    "# Using the template add the hotel marks to the heatmap\n",
    "info_box_template = \"\"\"\n",
    "<dl>\n",
    "<dt>Name</dt><dd>{Hotel Name}</dd>\n",
    "<dt>City</dt><dd>{City}</dd>\n",
    "<dt>Country</dt><dd>{Country}</dd>\n",
    "</dl>\n",
    "\"\"\"\n",
    "# Store the DataFrame Row\n",
    "# NOTE: be sure to update with your DataFrame name\n",
    "hotel_info = [info_box_template.format(**row) for index, row in hotel_df.iterrows()]\n",
    "locations = hotel_df[[\"Lat\", \"Lng\"]]"
   ]
  },
  {
   "cell_type": "code",
   "execution_count": 26,
   "metadata": {},
   "outputs": [
    {
     "output_type": "display_data",
     "data": {
      "text/plain": "Figure(layout=FigureLayout(border='1px solid black', height='600px', margin='0 auto 0 auto', padding='1px', wi…",
      "application/vnd.jupyter.widget-view+json": {
       "version_major": 2,
       "version_minor": 0,
       "model_id": "f9905062cd7a44578cb7df9e76472241"
      }
     },
     "metadata": {}
    }
   ],
   "source": [
    "# Add marker layer ontop of heat map\n",
    "marker_locations = hotel_df[[\"Lat\",\"Lng\"]]\n",
    "\n",
    "# Display figure\n",
    "# Create a marker_layer using the poverty list to fill the info box\n",
    "markers = gmaps.marker_layer(marker_locations,\n",
    "    info_box_content=hotel_info)\n",
    "fig.add_layer(markers)\n",
    "fig"
   ]
  },
  {
   "cell_type": "code",
   "execution_count": null,
   "metadata": {},
   "outputs": [],
   "source": []
  }
 ],
 "metadata": {
  "kernelspec": {
   "name": "python379jvsc74a57bd0972b5e8961cf972370136eb15a5ce67c848ddf5ca1c37bd5b3d0153e753bc276",
   "display_name": "Python 3.7.9 64-bit ('PythonData': conda)"
  },
  "language_info": {
   "codemirror_mode": {
    "name": "ipython",
    "version": 3
   },
   "file_extension": ".py",
   "mimetype": "text/x-python",
   "name": "python",
   "nbconvert_exporter": "python",
   "pygments_lexer": "ipython3",
   "version": "3.7.9"
  },
  "latex_envs": {
   "LaTeX_envs_menu_present": true,
   "autoclose": false,
   "autocomplete": true,
   "bibliofile": "biblio.bib",
   "cite_by": "apalike",
   "current_citInitial": 1,
   "eqLabelWithNumbers": true,
   "eqNumInitial": 1,
   "hotkeys": {
    "equation": "Ctrl-E",
    "itemize": "Ctrl-I"
   },
   "labels_anchors": false,
   "latex_user_defs": false,
   "report_style_numbering": false,
   "user_envs_cfg": false
  }
 },
 "nbformat": 4,
 "nbformat_minor": 4
}